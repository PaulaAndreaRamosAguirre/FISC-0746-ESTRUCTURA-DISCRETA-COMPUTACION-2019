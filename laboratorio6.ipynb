{
  "nbformat": 4,
  "nbformat_minor": 0,
  "metadata": {
    "colab": {
      "name": "laboratorio6.ipynb",
      "version": "0.3.2",
      "provenance": []
    },
    "kernelspec": {
      "name": "python3",
      "display_name": "Python 3"
    }
  },
  "cells": [
    {
      "cell_type": "markdown",
      "metadata": {
        "id": "N-Tgum9Bedkj",
        "colab_type": "text"
      },
      "source": [
        "\n",
        "##Diccionario\n",
        "\n"
      ]
    },
    {
      "cell_type": "code",
      "metadata": {
        "id": "77sXsAmWeeLr",
        "colab_type": "code",
        "colab": {}
      },
      "source": [
        "codigo_paises={'Finland': 'fi', 'South Africa': 'za', 'Nepal': 'np'}"
      ],
      "execution_count": 0,
      "outputs": []
    },
    {
      "cell_type": "code",
      "metadata": {
        "id": "_gO7LOAKeAKP",
        "colab_type": "code",
        "colab": {
          "base_uri": "https://localhost:8080/",
          "height": 34
        },
        "outputId": "a014389d-8184-4c0e-921a-3c8588096845"
      },
      "source": [
        "codigo_paises"
      ],
      "execution_count": 2,
      "outputs": [
        {
          "output_type": "execute_result",
          "data": {
            "text/plain": [
              "{'Finland': 'fi', 'Nepal': 'np', 'South Africa': 'za'}"
            ]
          },
          "metadata": {
            "tags": []
          },
          "execution_count": 2
        }
      ]
    },
    {
      "cell_type": "code",
      "metadata": {
        "id": "97hsvUnZgUez",
        "colab_type": "code",
        "colab": {
          "base_uri": "https://localhost:8080/",
          "height": 34
        },
        "outputId": "4735b603-d846-44d5-aa5a-60a6df2a34e8"
      },
      "source": [
        "#Determinar el tamaño de\n",
        "len(codigo_paises)"
      ],
      "execution_count": 3,
      "outputs": [
        {
          "output_type": "execute_result",
          "data": {
            "text/plain": [
              "3"
            ]
          },
          "metadata": {
            "tags": []
          },
          "execution_count": 3
        }
      ]
    },
    {
      "cell_type": "code",
      "metadata": {
        "id": "eLvM5lTdgfVK",
        "colab_type": "code",
        "colab": {
          "base_uri": "https://localhost:8080/",
          "height": 34
        },
        "outputId": "f85b88b5-e2ff-4997-8169-075d9d7e3ed2"
      },
      "source": [
        "if codigo_paises:\n",
        "  print('el diccionario tiene elementos')\n",
        "else :\n",
        "  print('el diccionario esta vacio')"
      ],
      "execution_count": 11,
      "outputs": [
        {
          "output_type": "stream",
          "text": [
            "el diccionario tiene elementos\n"
          ],
          "name": "stdout"
        }
      ]
    },
    {
      "cell_type": "code",
      "metadata": {
        "id": "pJV3FIQug_q7",
        "colab_type": "code",
        "colab": {
          "base_uri": "https://localhost:8080/",
          "height": 34
        },
        "outputId": "e0fb3b46-3215-43e5-a186-8b041e159df2"
      },
      "source": [
        "#eliminar los elementos del diccionario\n",
        "codigo_paises.clear()\n",
        "\n",
        "if codigo_paises:\n",
        "  print('el diccionario tiene elementos')\n",
        "else :\n",
        "  print('el diccionario esta vacio')"
      ],
      "execution_count": 5,
      "outputs": [
        {
          "output_type": "stream",
          "text": [
            "el diccionario esta vacio\n"
          ],
          "name": "stdout"
        }
      ]
    },
    {
      "cell_type": "code",
      "metadata": {
        "id": "socuTtlmhzwK",
        "colab_type": "code",
        "colab": {
          "base_uri": "https://localhost:8080/",
          "height": 34
        },
        "outputId": "93da027c-db5a-4378-b05c-ba6d2000e71a"
      },
      "source": [
        "dias_por_mes = {'enero': 31, 'febrero': 28, 'Marzo': 31}\n",
        "dias_por_mes"
      ],
      "execution_count": 6,
      "outputs": [
        {
          "output_type": "execute_result",
          "data": {
            "text/plain": [
              "{'Marzo': 31, 'enero': 31, 'febrero': 28}"
            ]
          },
          "metadata": {
            "tags": []
          },
          "execution_count": 6
        }
      ]
    },
    {
      "cell_type": "code",
      "metadata": {
        "id": "6vUSRZwXiPKC",
        "colab_type": "code",
        "colab": {
          "base_uri": "https://localhost:8080/",
          "height": 34
        },
        "outputId": "b426ba9e-49f4-4134-9c8c-1c8fe656b8f2"
      },
      "source": [
        "dias_por_mes.items()"
      ],
      "execution_count": 7,
      "outputs": [
        {
          "output_type": "execute_result",
          "data": {
            "text/plain": [
              "dict_items([('enero', 31), ('febrero', 28), ('Marzo', 31)])"
            ]
          },
          "metadata": {
            "tags": []
          },
          "execution_count": 7
        }
      ]
    },
    {
      "cell_type": "code",
      "metadata": {
        "id": "n4SgOAslijBK",
        "colab_type": "code",
        "colab": {
          "base_uri": "https://localhost:8080/",
          "height": 68
        },
        "outputId": "f122c548-ec3e-4ec9-d003-8bcd72d783f5"
      },
      "source": [
        "for month, days in dias_por_mes.items():\n",
        "  print(f'{month} Tiene {days} dias')"
      ],
      "execution_count": 16,
      "outputs": [
        {
          "output_type": "stream",
          "text": [
            "enero Tiene 31 dias\n",
            "febrero Tiene 28 dias\n",
            "Marzo Tiene 31 dias\n"
          ],
          "name": "stdout"
        }
      ]
    },
    {
      "cell_type": "markdown",
      "metadata": {
        "id": "-vsyzUO6joJc",
        "colab_type": "text"
      },
      "source": [
        "##Tarea 01\n"
      ]
    },
    {
      "cell_type": "markdown",
      "metadata": {
        "id": "kr_GFboLjvTS",
        "colab_type": "text"
      },
      "source": [
        "Para panama imprimir el codico pa"
      ]
    },
    {
      "cell_type": "code",
      "metadata": {
        "id": "LpNEgK2TjsNM",
        "colab_type": "code",
        "colab": {
          "base_uri": "https://localhost:8080/",
          "height": 34
        },
        "outputId": "28d40884-ff4c-4c3d-cfd6-3548e686a08c"
      },
      "source": [
        "\n",
        "codigo_panama = {'Panama': 'pa'}\n",
        "codigo_panama"
      ],
      "execution_count": 18,
      "outputs": [
        {
          "output_type": "execute_result",
          "data": {
            "text/plain": [
              "{'Panama': 'pa'}"
            ]
          },
          "metadata": {
            "tags": []
          },
          "execution_count": 18
        }
      ]
    },
    {
      "cell_type": "code",
      "metadata": {
        "id": "_f9fORCclAcj",
        "colab_type": "code",
        "colab": {
          "base_uri": "https://localhost:8080/",
          "height": 34
        },
        "outputId": "915d23fb-5041-42c2-af1c-3e61556d97f9"
      },
      "source": [
        "for pais, codigo in codigo_panama.items():\n",
        "  print(f'{pais} Tiene codigo: {codigo} ')"
      ],
      "execution_count": 21,
      "outputs": [
        {
          "output_type": "stream",
          "text": [
            "Panama Tiene codigo: pa \n"
          ],
          "name": "stdout"
        }
      ]
    },
    {
      "cell_type": "markdown",
      "metadata": {
        "id": "bCSkEqZinccD",
        "colab_type": "text"
      },
      "source": [
        "Numeros romanos"
      ]
    },
    {
      "cell_type": "code",
      "metadata": {
        "id": "ReQSeqdclVTq",
        "colab_type": "code",
        "colab": {
          "base_uri": "https://localhost:8080/",
          "height": 34
        },
        "outputId": "338397e7-3fe4-4631-9d2f-d82c64729849"
      },
      "source": [
        "numeros_romanos = {'I': 1, 'II': 2, 'III': 3, 'V': 5}\n",
        "numeros_romanos"
      ],
      "execution_count": 70,
      "outputs": [
        {
          "output_type": "execute_result",
          "data": {
            "text/plain": [
              "{'I': 1, 'II': 2, 'III': 3, 'V': 5}"
            ]
          },
          "metadata": {
            "tags": []
          },
          "execution_count": 70
        }
      ]
    },
    {
      "cell_type": "code",
      "metadata": {
        "id": "hnxHIi23lmkz",
        "colab_type": "code",
        "colab": {
          "base_uri": "https://localhost:8080/",
          "height": 34
        },
        "outputId": "ad09de68-e7c4-4080-f57b-092110637c8a"
      },
      "source": [
        "numeros_romanos['V']"
      ],
      "execution_count": 71,
      "outputs": [
        {
          "output_type": "execute_result",
          "data": {
            "text/plain": [
              "5"
            ]
          },
          "metadata": {
            "tags": []
          },
          "execution_count": 71
        }
      ]
    },
    {
      "cell_type": "code",
      "metadata": {
        "id": "luJVB0TxmCVq",
        "colab_type": "code",
        "colab": {
          "base_uri": "https://localhost:8080/",
          "height": 34
        },
        "outputId": "b0480cd9-56b2-4eeb-efbc-7d229a4709f4"
      },
      "source": [
        "#Agregar valor nuevo\n",
        "numeros_romanos['X']=10\n",
        "numeros_romanos['L']=50\n",
        "numeros_romanos"
      ],
      "execution_count": 72,
      "outputs": [
        {
          "output_type": "execute_result",
          "data": {
            "text/plain": [
              "{'I': 1, 'II': 2, 'III': 3, 'L': 50, 'V': 5, 'X': 10}"
            ]
          },
          "metadata": {
            "tags": []
          },
          "execution_count": 72
        }
      ]
    },
    {
      "cell_type": "code",
      "metadata": {
        "id": "I1MQEOj3m6I0",
        "colab_type": "code",
        "colab": {
          "base_uri": "https://localhost:8080/",
          "height": 34
        },
        "outputId": "cd376bb2-f26b-47c6-a0f1-ab5da1a0508a"
      },
      "source": [
        "numeros_romanos.pop('X')\n"
      ],
      "execution_count": 73,
      "outputs": [
        {
          "output_type": "execute_result",
          "data": {
            "text/plain": [
              "10"
            ]
          },
          "metadata": {
            "tags": []
          },
          "execution_count": 73
        }
      ]
    },
    {
      "cell_type": "code",
      "metadata": {
        "id": "Zfxpuo97nW9y",
        "colab_type": "code",
        "colab": {
          "base_uri": "https://localhost:8080/",
          "height": 34
        },
        "outputId": "aa839686-21cb-44a7-aeca-92b4872ee4dd"
      },
      "source": [
        "numeros_romanos"
      ],
      "execution_count": 74,
      "outputs": [
        {
          "output_type": "execute_result",
          "data": {
            "text/plain": [
              "{'I': 1, 'II': 2, 'III': 3, 'L': 50, 'V': 5}"
            ]
          },
          "metadata": {
            "tags": []
          },
          "execution_count": 74
        }
      ]
    },
    {
      "cell_type": "code",
      "metadata": {
        "id": "08vDe_r0nhGi",
        "colab_type": "code",
        "colab": {
          "base_uri": "https://localhost:8080/",
          "height": 34
        },
        "outputId": "590b708a-f5a1-44f4-ecbf-d9a7dd65730c"
      },
      "source": [
        "#Remover un va\n",
        "del numeros_romanos['III']\n",
        "numeros_romanos"
      ],
      "execution_count": 75,
      "outputs": [
        {
          "output_type": "execute_result",
          "data": {
            "text/plain": [
              "{'I': 1, 'II': 2, 'L': 50, 'V': 5}"
            ]
          },
          "metadata": {
            "tags": []
          },
          "execution_count": 75
        }
      ]
    },
    {
      "cell_type": "code",
      "metadata": {
        "id": "s5IFPD8Dos0a",
        "colab_type": "code",
        "colab": {
          "base_uri": "https://localhost:8080/",
          "height": 163
        },
        "outputId": "e6b85640-2fee-40d7-ed12-cd3f607e4d74"
      },
      "source": [
        "numeros_romanos['III']"
      ],
      "execution_count": 77,
      "outputs": [
        {
          "output_type": "error",
          "ename": "KeyError",
          "evalue": "ignored",
          "traceback": [
            "\u001b[0;31m---------------------------------------------------------------------------\u001b[0m",
            "\u001b[0;31mKeyError\u001b[0m                                  Traceback (most recent call last)",
            "\u001b[0;32m<ipython-input-77-94951f42b5b0>\u001b[0m in \u001b[0;36m<module>\u001b[0;34m()\u001b[0m\n\u001b[0;32m----> 1\u001b[0;31m \u001b[0mnumeros_romanos\u001b[0m\u001b[0;34m[\u001b[0m\u001b[0;34m'III'\u001b[0m\u001b[0;34m]\u001b[0m\u001b[0;34m\u001b[0m\u001b[0;34m\u001b[0m\u001b[0m\n\u001b[0m",
            "\u001b[0;31mKeyError\u001b[0m: 'III'"
          ]
        }
      ]
    },
    {
      "cell_type": "code",
      "metadata": {
        "id": "vjglgeUwocFs",
        "colab_type": "code",
        "colab": {}
      },
      "source": [
        "#FORMAS DE MANDAR ERRORES\n",
        "numeros_romanos.get('III')"
      ],
      "execution_count": 0,
      "outputs": []
    },
    {
      "cell_type": "code",
      "metadata": {
        "id": "nKxRAuD5pbKc",
        "colab_type": "code",
        "colab": {
          "base_uri": "https://localhost:8080/",
          "height": 34
        },
        "outputId": "c9dd55ed-07d2-4cec-d7bf-ce3cebacad56"
      },
      "source": [
        "#\n",
        "numeros_romanos.get('III', 'III no se encuentra en el diccionario')"
      ],
      "execution_count": 84,
      "outputs": [
        {
          "output_type": "execute_result",
          "data": {
            "text/plain": [
              "'III no se encuentra en el diccionario'"
            ]
          },
          "metadata": {
            "tags": []
          },
          "execution_count": 84
        }
      ]
    },
    {
      "cell_type": "code",
      "metadata": {
        "id": "QHJLadMMpACk",
        "colab_type": "code",
        "colab": {
          "base_uri": "https://localhost:8080/",
          "height": 34
        },
        "outputId": "a063172f-144a-4ef6-80c0-072a4e1244ff"
      },
      "source": [
        "#\n",
        "numeros_romanos.get('I', 'III no se encuentra en el diccionario')"
      ],
      "execution_count": 83,
      "outputs": [
        {
          "output_type": "execute_result",
          "data": {
            "text/plain": [
              "1"
            ]
          },
          "metadata": {
            "tags": []
          },
          "execution_count": 83
        }
      ]
    },
    {
      "cell_type": "code",
      "metadata": {
        "id": "V1888cF_piiT",
        "colab_type": "code",
        "colab": {
          "base_uri": "https://localhost:8080/",
          "height": 34
        },
        "outputId": "eaec5ece-6372-4b40-a589-0e5e522cb591"
      },
      "source": [
        "#Provar cuando un diccionario contiene una llave espesifica\n",
        "'V' in numeros_romanos"
      ],
      "execution_count": 85,
      "outputs": [
        {
          "output_type": "execute_result",
          "data": {
            "text/plain": [
              "True"
            ]
          },
          "metadata": {
            "tags": []
          },
          "execution_count": 85
        }
      ]
    },
    {
      "cell_type": "code",
      "metadata": {
        "id": "c002cVroqFOL",
        "colab_type": "code",
        "colab": {
          "base_uri": "https://localhost:8080/",
          "height": 34
        },
        "outputId": "a14c7a0b-268c-45d8-cfc9-609267cd98fa"
      },
      "source": [
        "'III' in numeros_romanos"
      ],
      "execution_count": 86,
      "outputs": [
        {
          "output_type": "execute_result",
          "data": {
            "text/plain": [
              "False"
            ]
          },
          "metadata": {
            "tags": []
          },
          "execution_count": 86
        }
      ]
    },
    {
      "cell_type": "code",
      "metadata": {
        "id": "aGctuATMqUIG",
        "colab_type": "code",
        "colab": {
          "base_uri": "https://localhost:8080/",
          "height": 34
        },
        "outputId": "f1e193ee-a300-49d6-da03-01177e22f1ba"
      },
      "source": [
        "'III' not in numeros_romanos"
      ],
      "execution_count": 88,
      "outputs": [
        {
          "output_type": "execute_result",
          "data": {
            "text/plain": [
              "True"
            ]
          },
          "metadata": {
            "tags": []
          },
          "execution_count": 88
        }
      ]
    },
    {
      "cell_type": "markdown",
      "metadata": {
        "id": "zuPLBL1pqbRl",
        "colab_type": "text"
      },
      "source": [
        "##Tarea 02"
      ]
    },
    {
      "cell_type": "markdown",
      "metadata": {
        "id": "TjTG5gyMqd9M",
        "colab_type": "text"
      },
      "source": [
        "\n",
        "* crear un diccionario \"numeros binarios\" con 5 llaves \"1\", \"2\", \"4\", \"5\", \"10\"\n",
        "*  insertar una llave \"3\" con su valor\n",
        "*  Remover 5 elementos y obtener su valor\n",
        "*  Verificar si la llave \"9\" ya existe\n",
        "\n",
        "\n",
        "\n",
        "\n",
        "\n",
        "\n",
        "---\n",
        "\n"
      ]
    },
    {
      "cell_type": "code",
      "metadata": {
        "id": "Nv0TDB7prZlk",
        "colab_type": "code",
        "colab": {
          "base_uri": "https://localhost:8080/",
          "height": 34
        },
        "outputId": "2a27ce50-8b4a-4914-ef4f-c577e750d690"
      },
      "source": [
        "#1\n",
        "numeros_binarios = {'1': 1, '2': 10, '4': 100, '5': 101, '10': 1010 }\n",
        "numeros_binarios"
      ],
      "execution_count": 95,
      "outputs": [
        {
          "output_type": "execute_result",
          "data": {
            "text/plain": [
              "{'1': 1, '10': 1010, '2': 10, '4': 100, '5': 101}"
            ]
          },
          "metadata": {
            "tags": []
          },
          "execution_count": 95
        }
      ]
    },
    {
      "cell_type": "code",
      "metadata": {
        "id": "qdHTB8TSrZis",
        "colab_type": "code",
        "colab": {
          "base_uri": "https://localhost:8080/",
          "height": 34
        },
        "outputId": "6827c414-8bdc-4397-9e72-8c7fe47dcd61"
      },
      "source": [
        "#2\n",
        "numeros_binarios['3']= 11\n",
        "numeros_binarios"
      ],
      "execution_count": 96,
      "outputs": [
        {
          "output_type": "execute_result",
          "data": {
            "text/plain": [
              "{'1': 1, '10': 1010, '2': 10, '3': 11, '4': 100, '5': 101}"
            ]
          },
          "metadata": {
            "tags": []
          },
          "execution_count": 96
        }
      ]
    },
    {
      "cell_type": "code",
      "metadata": {
        "id": "_hOjZZbDrZfE",
        "colab_type": "code",
        "colab": {
          "base_uri": "https://localhost:8080/",
          "height": 34
        },
        "outputId": "ca58f74b-9d6a-44f5-939c-1e3f3290497d"
      },
      "source": [
        "#3\n",
        "numeros_binarios.pop('5')\n",
        "numeros_binarios"
      ],
      "execution_count": 97,
      "outputs": [
        {
          "output_type": "execute_result",
          "data": {
            "text/plain": [
              "{'1': 1, '10': 1010, '2': 10, '3': 11, '4': 100}"
            ]
          },
          "metadata": {
            "tags": []
          },
          "execution_count": 97
        }
      ]
    },
    {
      "cell_type": "code",
      "metadata": {
        "id": "oRaCyyxSqT-3",
        "colab_type": "code",
        "colab": {
          "base_uri": "https://localhost:8080/",
          "height": 34
        },
        "outputId": "4dab4e63-6c63-46a1-fba5-5a6bd6fa5bb1"
      },
      "source": [
        "#4\n",
        "'9' in numeros_binarios"
      ],
      "execution_count": 98,
      "outputs": [
        {
          "output_type": "execute_result",
          "data": {
            "text/plain": [
              "False"
            ]
          },
          "metadata": {
            "tags": []
          },
          "execution_count": 98
        }
      ]
    },
    {
      "cell_type": "markdown",
      "metadata": {
        "id": "GTZH3Rs_vIt7",
        "colab_type": "text"
      },
      "source": [
        "##Tarea 03"
      ]
    },
    {
      "cell_type": "code",
      "metadata": {
        "id": "N-0mWKRMqT64",
        "colab_type": "code",
        "colab": {
          "base_uri": "https://localhost:8080/",
          "height": 102
        },
        "outputId": "95e75543-a712-498e-b75e-daee25b6fa3d"
      },
      "source": [
        "libro_de_notas = {\n",
        "    'susana': [92,85,100],\n",
        "    'eduardo': [83, 95, 79],\n",
        "    'ariel': [89,91,82],\n",
        "    'Pedro': [97, 91, 92]\n",
        "   \n",
        "}\n",
        "todas_las_notas_totales= 0\n",
        "contador_de_notas=0\n",
        "\n",
        "for nombre , notas in libro_de_notas.items():\n",
        "  #obtener la suma de las notas\n",
        "  total=sum(notas)\n",
        "  \n",
        "  print(f'average for {nombre} is {total/len(notas):.2f}')\n",
        "  \n",
        "  todas_las_notas_totales += total\n",
        "  contador_de_notas += len(notas)\n",
        "  \n",
        "print(f\"El promedio del salon es: {todas_las_notas_totales / contador_de_notas:.2f}\")\n",
        "  \n"
      ],
      "execution_count": 127,
      "outputs": [
        {
          "output_type": "stream",
          "text": [
            "average for susana is 92.33\n",
            "average for eduardo is 85.67\n",
            "average for ariel is 87.33\n",
            "average for Pedro is 93.33\n",
            "El promedio del salon es: 89.67\n"
          ],
          "name": "stdout"
        }
      ]
    },
    {
      "cell_type": "code",
      "metadata": {
        "id": "UQpIkXfGzhZl",
        "colab_type": "code",
        "colab": {}
      },
      "source": [
        "\n",
        "\n"
      ],
      "execution_count": 0,
      "outputs": []
    }
  ]
}