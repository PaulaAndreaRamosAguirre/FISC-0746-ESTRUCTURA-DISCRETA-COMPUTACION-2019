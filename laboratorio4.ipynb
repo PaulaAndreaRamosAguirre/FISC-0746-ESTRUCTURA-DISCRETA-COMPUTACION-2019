{
  "nbformat": 4,
  "nbformat_minor": 0,
  "metadata": {
    "colab": {
      "name": "laboratorio4.ipynb",
      "version": "0.3.2",
      "provenance": []
    },
    "kernelspec": {
      "name": "python3",
      "display_name": "Python 3"
    }
  },
  "cells": [
    {
      "metadata": {
        "id": "ml_TqD87PfrJ",
        "colab_type": "code",
        "colab": {}
      },
      "cell_type": "code",
      "source": [
        "c = [ -45, 6, 0, 72, 1543]\n"
      ],
      "execution_count": 0,
      "outputs": []
    },
    {
      "metadata": {
        "id": "kTKEw-cmP6Tq",
        "colab_type": "code",
        "outputId": "0034e04c-bec9-41ee-fba2-03bd0f746148",
        "colab": {
          "base_uri": "https://localhost:8080/",
          "height": 34
        }
      },
      "cell_type": "code",
      "source": [
        "print (c)"
      ],
      "execution_count": 0,
      "outputs": [
        {
          "output_type": "stream",
          "text": [
            "[-45, 6, 0, 72, 1543]\n"
          ],
          "name": "stdout"
        }
      ]
    },
    {
      "metadata": {
        "id": "V5rEGuA3P6rC",
        "colab_type": "code",
        "outputId": "f665537a-b967-49c2-b203-7b747ed1b19d",
        "colab": {
          "base_uri": "https://localhost:8080/",
          "height": 34
        }
      },
      "cell_type": "code",
      "source": [
        "c[0]"
      ],
      "execution_count": 0,
      "outputs": [
        {
          "output_type": "execute_result",
          "data": {
            "text/plain": [
              "-45"
            ]
          },
          "metadata": {
            "tags": []
          },
          "execution_count": 3
        }
      ]
    },
    {
      "metadata": {
        "id": "VjJaM1rJP6_6",
        "colab_type": "code",
        "outputId": "8aa11faa-0d8e-45ba-b8a9-9a52d68f67d4",
        "colab": {
          "base_uri": "https://localhost:8080/",
          "height": 34
        }
      },
      "cell_type": "code",
      "source": [
        "len(c)"
      ],
      "execution_count": 0,
      "outputs": [
        {
          "output_type": "execute_result",
          "data": {
            "text/plain": [
              "5"
            ]
          },
          "metadata": {
            "tags": []
          },
          "execution_count": 6
        }
      ]
    },
    {
      "metadata": {
        "id": "9cIMvcmuP78q",
        "colab_type": "code",
        "outputId": "65086e96-6cbe-4a0b-f552-4de367be27ad",
        "colab": {
          "base_uri": "https://localhost:8080/",
          "height": 34
        }
      },
      "cell_type": "code",
      "source": [
        "type(c)"
      ],
      "execution_count": 0,
      "outputs": [
        {
          "output_type": "execute_result",
          "data": {
            "text/plain": [
              "list"
            ]
          },
          "metadata": {
            "tags": []
          },
          "execution_count": 7
        }
      ]
    },
    {
      "metadata": {
        "id": "_OABEk3PP8YK",
        "colab_type": "code",
        "outputId": "9921de0a-14f5-45a2-d04b-a404725952b7",
        "colab": {
          "base_uri": "https://localhost:8080/",
          "height": 34
        }
      },
      "cell_type": "code",
      "source": [
        "c[-1]"
      ],
      "execution_count": 0,
      "outputs": [
        {
          "output_type": "execute_result",
          "data": {
            "text/plain": [
              "1543"
            ]
          },
          "metadata": {
            "tags": []
          },
          "execution_count": 8
        }
      ]
    },
    {
      "metadata": {
        "id": "AryOJzjhP7Ta",
        "colab_type": "code",
        "outputId": "e1fd4a33-05c2-4bbd-8f9a-9dd799d4c999",
        "colab": {
          "base_uri": "https://localhost:8080/",
          "height": 34
        }
      },
      "cell_type": "code",
      "source": [
        "c"
      ],
      "execution_count": 0,
      "outputs": [
        {
          "output_type": "execute_result",
          "data": {
            "text/plain": [
              "[-45, 6, 0, 72, 1543]"
            ]
          },
          "metadata": {
            "tags": []
          },
          "execution_count": 9
        }
      ]
    },
    {
      "metadata": {
        "id": "37NowGPmP2cj",
        "colab_type": "code",
        "colab": {}
      },
      "cell_type": "code",
      "source": [
        "a= 1"
      ],
      "execution_count": 0,
      "outputs": []
    },
    {
      "metadata": {
        "id": "z83BH59JRKwC",
        "colab_type": "code",
        "colab": {}
      },
      "cell_type": "code",
      "source": [
        "b= 2"
      ],
      "execution_count": 0,
      "outputs": []
    },
    {
      "metadata": {
        "id": "AEm5H8ydRWGh",
        "colab_type": "code",
        "outputId": "a26416c6-94e0-467e-a16f-bca23bda0258",
        "colab": {
          "base_uri": "https://localhost:8080/",
          "height": 34
        }
      },
      "cell_type": "code",
      "source": [
        "c"
      ],
      "execution_count": 0,
      "outputs": [
        {
          "output_type": "execute_result",
          "data": {
            "text/plain": [
              "[-45, 6, 0, 72, 1543]"
            ]
          },
          "metadata": {
            "tags": []
          },
          "execution_count": 15
        }
      ]
    },
    {
      "metadata": {
        "id": "m5mq8R1uRKtC",
        "colab_type": "code",
        "outputId": "78440cef-8822-44a4-a1a1-b96ce3436168",
        "colab": {
          "base_uri": "https://localhost:8080/",
          "height": 34
        }
      },
      "cell_type": "code",
      "source": [
        "c[a + b]"
      ],
      "execution_count": 0,
      "outputs": [
        {
          "output_type": "execute_result",
          "data": {
            "text/plain": [
              "72"
            ]
          },
          "metadata": {
            "tags": []
          },
          "execution_count": 18
        }
      ]
    },
    {
      "metadata": {
        "id": "-7l-BjtwRKqS",
        "colab_type": "code",
        "colab": {}
      },
      "cell_type": "code",
      "source": [
        "notas = [91, 99, 89, 63, 79]"
      ],
      "execution_count": 0,
      "outputs": []
    },
    {
      "metadata": {
        "id": "pysZ8FZSRKni",
        "colab_type": "code",
        "outputId": "7efef4d8-c0ee-4af8-b7dc-543265a06681",
        "colab": {
          "base_uri": "https://localhost:8080/",
          "height": 34
        }
      },
      "cell_type": "code",
      "source": [
        "sum(notas)"
      ],
      "execution_count": 0,
      "outputs": [
        {
          "output_type": "execute_result",
          "data": {
            "text/plain": [
              "421"
            ]
          },
          "metadata": {
            "tags": []
          },
          "execution_count": 20
        }
      ]
    },
    {
      "metadata": {
        "id": "MBsk1EBDRKkr",
        "colab_type": "code",
        "outputId": "d6448f97-4b06-4caf-cc2a-2cd6f4779a3f",
        "colab": {
          "base_uri": "https://localhost:8080/",
          "height": 34
        }
      },
      "cell_type": "code",
      "source": [
        "len(notas)"
      ],
      "execution_count": 0,
      "outputs": [
        {
          "output_type": "execute_result",
          "data": {
            "text/plain": [
              "5"
            ]
          },
          "metadata": {
            "tags": []
          },
          "execution_count": 21
        }
      ]
    },
    {
      "metadata": {
        "id": "wXX8Om2sRKh8",
        "colab_type": "code",
        "outputId": "e6224d0d-bfaf-412e-cf78-492ee959217f",
        "colab": {
          "base_uri": "https://localhost:8080/",
          "height": 34
        }
      },
      "cell_type": "code",
      "source": [
        "type(notas)"
      ],
      "execution_count": 0,
      "outputs": [
        {
          "output_type": "execute_result",
          "data": {
            "text/plain": [
              "list"
            ]
          },
          "metadata": {
            "tags": []
          },
          "execution_count": 22
        }
      ]
    },
    {
      "metadata": {
        "id": "k7CkPW26RKe7",
        "colab_type": "code",
        "outputId": "58d1f9e9-cb5a-464a-c583-d7d585211a2d",
        "colab": {
          "base_uri": "https://localhost:8080/",
          "height": 34
        }
      },
      "cell_type": "code",
      "source": [
        "notas[-2]"
      ],
      "execution_count": 0,
      "outputs": [
        {
          "output_type": "execute_result",
          "data": {
            "text/plain": [
              "63"
            ]
          },
          "metadata": {
            "tags": []
          },
          "execution_count": 24
        }
      ]
    },
    {
      "metadata": {
        "id": "iU-osLRzRKYK",
        "colab_type": "code",
        "outputId": "0c1b378f-b69a-4838-cfb9-12d8ca4baf4f",
        "colab": {
          "base_uri": "https://localhost:8080/",
          "height": 34
        }
      },
      "cell_type": "code",
      "source": [
        "promedio = sum(notas) / len(notas) \n",
        "promedio"
      ],
      "execution_count": 0,
      "outputs": [
        {
          "output_type": "execute_result",
          "data": {
            "text/plain": [
              "84.2"
            ]
          },
          "metadata": {
            "tags": []
          },
          "execution_count": 26
        }
      ]
    },
    {
      "metadata": {
        "id": "LOC6xtgbTQmy",
        "colab_type": "text"
      },
      "cell_type": "markdown",
      "source": [
        "###Tarea\n",
        "sumar todos los elementos de una lista ulizando for"
      ]
    },
    {
      "metadata": {
        "id": "zvLY_SeVRKVS",
        "colab_type": "code",
        "colab": {
          "base_uri": "https://localhost:8080/",
          "height": 34
        },
        "outputId": "cdd861df-4ef0-4837-eb35-a580f3516e82"
      },
      "cell_type": "code",
      "source": [
        "x =[2, 3, 4 , 10]\n",
        "suma=0\n",
        "for i in (x):\n",
        "  suma +=i\n",
        "  \n",
        "print (suma)\n",
        " \n",
        "  "
      ],
      "execution_count": 52,
      "outputs": [
        {
          "output_type": "stream",
          "text": [
            "19\n"
          ],
          "name": "stdout"
        }
      ]
    },
    {
      "metadata": {
        "id": "JL8qYXMzRKRS",
        "colab_type": "code",
        "colab": {
          "base_uri": "https://localhost:8080/",
          "height": 85
        },
        "outputId": "848c838f-ec84-4529-b3ea-44a2267001b8"
      },
      "cell_type": "code",
      "source": [
        "x =[2, 3, 4 , 10]\n",
        "for i in reversed (x):\n",
        "  print(i)"
      ],
      "execution_count": 40,
      "outputs": [
        {
          "output_type": "stream",
          "text": [
            "10\n",
            "4\n",
            "3\n",
            "2\n"
          ],
          "name": "stdout"
        }
      ]
    },
    {
      "metadata": {
        "id": "jxsZSuKoYdyb",
        "colab_type": "text"
      },
      "cell_type": "markdown",
      "source": [
        "##Optener el promedio de una lista"
      ]
    },
    {
      "metadata": {
        "id": "vjOIklaYRKLC",
        "colab_type": "code",
        "colab": {
          "base_uri": "https://localhost:8080/",
          "height": 34
        },
        "outputId": "e0455d58-d028-406f-cc3b-d4444fda048e"
      },
      "cell_type": "code",
      "source": [
        "x =[2, 3, 4 , 10]\n",
        "promedio= 0\n",
        "for i in (x):\n",
        "  promedio= sum(x) / len(x)\n",
        "print(promedio)"
      ],
      "execution_count": 80,
      "outputs": [
        {
          "output_type": "stream",
          "text": [
            "4.75\n"
          ],
          "name": "stdout"
        }
      ]
    },
    {
      "metadata": {
        "id": "srnglMIARJ9a",
        "colab_type": "code",
        "colab": {
          "base_uri": "https://localhost:8080/",
          "height": 34
        },
        "outputId": "561896e2-d4b0-4c28-bf4d-01f94564d8c4"
      },
      "cell_type": "code",
      "source": [
        "x[2] = 7\n",
        "print(x)"
      ],
      "execution_count": 61,
      "outputs": [
        {
          "output_type": "stream",
          "text": [
            "[2, 3, 7, 10]\n"
          ],
          "name": "stdout"
        }
      ]
    },
    {
      "metadata": {
        "id": "qK_rNpZbaaPL",
        "colab_type": "code",
        "colab": {
          "base_uri": "https://localhost:8080/",
          "height": 34
        },
        "outputId": "249c465a-c207-4957-9349-ae5c100460fe"
      },
      "cell_type": "code",
      "source": [
        " x[0] + x[1] "
      ],
      "execution_count": 81,
      "outputs": [
        {
          "output_type": "execute_result",
          "data": {
            "text/plain": [
              "5"
            ]
          },
          "metadata": {
            "tags": []
          },
          "execution_count": 81
        }
      ]
    },
    {
      "metadata": {
        "id": "t5irXl4daaMM",
        "colab_type": "code",
        "colab": {}
      },
      "cell_type": "code",
      "source": [
        "lista = []\n",
        "for number in range(1, 6):\n",
        "  lista +=[number]"
      ],
      "execution_count": 0,
      "outputs": []
    },
    {
      "metadata": {
        "id": "k2ZoXK3vaaJM",
        "colab_type": "code",
        "colab": {
          "base_uri": "https://localhost:8080/",
          "height": 34
        },
        "outputId": "45db8475-192e-4739-cca0-953f76f08fdd"
      },
      "cell_type": "code",
      "source": [
        "lista"
      ],
      "execution_count": 65,
      "outputs": [
        {
          "output_type": "execute_result",
          "data": {
            "text/plain": [
              "[1, 2, 3, 4, 5]"
            ]
          },
          "metadata": {
            "tags": []
          },
          "execution_count": 65
        }
      ]
    },
    {
      "metadata": {
        "id": "IOPhVseecikC",
        "colab_type": "text"
      },
      "cell_type": "markdown",
      "source": [
        "#Asignacion "
      ]
    },
    {
      "metadata": {
        "id": "pAvS9FihaaGr",
        "colab_type": "code",
        "colab": {}
      },
      "cell_type": "code",
      "source": [
        "x = {161, 182, 161, 154, 176, 170, 167, 171, 170, 174}"
      ],
      "execution_count": 0,
      "outputs": []
    },
    {
      "metadata": {
        "id": "aDm4YNM9aZ67",
        "colab_type": "code",
        "colab": {}
      },
      "cell_type": "code",
      "source": [
        "\n",
        "prom= sum(x) / len(x)\n"
      ],
      "execution_count": 0,
      "outputs": []
    },
    {
      "metadata": {
        "id": "35bso5o_aZ3V",
        "colab_type": "code",
        "colab": {
          "base_uri": "https://localhost:8080/",
          "height": 34
        },
        "outputId": "ae9eb1d4-62b6-4a52-dbb2-dfe3bba234bf"
      },
      "cell_type": "code",
      "source": [
        "prom"
      ],
      "execution_count": 94,
      "outputs": [
        {
          "output_type": "execute_result",
          "data": {
            "text/plain": [
              "169.375"
            ]
          },
          "metadata": {
            "tags": []
          },
          "execution_count": 94
        }
      ]
    }
  ]
}