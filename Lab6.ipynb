{
  "nbformat": 4,
  "nbformat_minor": 0,
  "metadata": {
    "colab": {
      "name": "Lab6.ipynb",
      "version": "0.3.2",
      "provenance": [],
      "collapsed_sections": []
    },
    "kernelspec": {
      "name": "python3",
      "display_name": "Python 3"
    }
  },
  "cells": [
    {
      "cell_type": "markdown",
      "metadata": {
        "id": "Fk0qvZSmdPCM",
        "colab_type": "text"
      },
      "source": [
        "##Tarea 1"
      ]
    },
    {
      "cell_type": "code",
      "metadata": {
        "id": "1BSwAnyldWFD",
        "colab_type": "code",
        "colab": {}
      },
      "source": [
        "#Paula Ramos\n",
        "#funcion de Multiplicacion \n",
        "def multi(a, b):\n",
        "  return a*b"
      ],
      "execution_count": 0,
      "outputs": []
    },
    {
      "cell_type": "code",
      "metadata": {
        "colab_type": "code",
        "outputId": "18057e32-e313-4d1f-b531-9dc654da2f44",
        "id": "ozhgli7GfMcC",
        "colab": {
          "base_uri": "https://localhost:8080/",
          "height": 34
        }
      },
      "source": [
        "num1=2\n",
        "num2=9\n",
        "n= multi(num1, num2)\n",
        "print(\"la multiplicacion de \" + str(num1) + \" por \" + str(num2) + \" es: \"+ str(n))"
      ],
      "execution_count": 0,
      "outputs": [
        {
          "output_type": "stream",
          "text": [
            "la multiplicacion de 2 por 9 es: 18\n"
          ],
          "name": "stdout"
        }
      ]
    },
    {
      "cell_type": "markdown",
      "metadata": {
        "id": "J62Y9wxLfiVT",
        "colab_type": "text"
      },
      "source": [
        "#tarea 2\n",
        "escribir una funcion que regrese el 7% de una compra cual es el resultado de la vent?"
      ]
    },
    {
      "cell_type": "code",
      "metadata": {
        "id": "ZiWa8lSNnrGj",
        "colab_type": "code",
        "colab": {}
      },
      "source": [
        "m=10\n",
        "p=0.07\n",
        "def porc(m,p):\n",
        "  return m*p\n",
        "a=porc(m,p)\n",
        "\n",
        "\n",
        "def total(m,p):\n",
        "  return m+ porc(m,p)\n"
      ],
      "execution_count": 0,
      "outputs": []
    },
    {
      "cell_type": "code",
      "metadata": {
        "id": "3YwWILzroVJU",
        "colab_type": "code",
        "outputId": "ebbf15ec-c8fb-4ef5-8287-4e44b3142ae4",
        "colab": {
          "base_uri": "https://localhost:8080/",
          "height": 34
        }
      },
      "source": [
        "print(\"el 0.07% del monto es: \" + str(a) + \" el moto es: \" + str(m) + \" el total es:\" + str(total(m,p)))"
      ],
      "execution_count": 0,
      "outputs": [
        {
          "output_type": "stream",
          "text": [
            "el 0.07% del monto es: 0.7000000000000001 el moto es: 10 el total es:10.7\n"
          ],
          "name": "stdout"
        }
      ]
    },
    {
      "cell_type": "markdown",
      "metadata": {
        "id": "Ri_pXoGKsUP2",
        "colab_type": "text"
      },
      "source": [
        "##Tarea 3\n",
        "si es jubilada\n",
        "aplicar decuento de 30%\n",
        "imprimir el total\n",
        "\n"
      ]
    },
    {
      "cell_type": "code",
      "metadata": {
        "id": "8jxqIXgtffFr",
        "colab_type": "code",
        "outputId": "d531ee05-f693-47a6-891e-51850fda5f27",
        "colab": {
          "base_uri": "https://localhost:8080/"
        }
      },
      "source": [
        "m=10 \n",
        "p=0.30\n",
        "jubilado == True \n",
        "\n",
        "if jubilado == True \n",
        "\n",
        "def jubilado(m,p):\n",
        "  return m*p\n",
        "\n",
        "a=porc(m,p)\n",
        "\n",
        "def total(m,p):\n",
        "  return m+ porc(m,p)\n",
        "\n",
        "else:\n",
        "  jubilado==False\n",
        "  print(\"NO TIENE DESCUENTO\")"
      ],
      "execution_count": 1,
      "outputs": [
        {
          "output_type": "error",
          "ename": "NameError",
          "evalue": "ignored",
          "traceback": [
            "\u001b[0;31m---------------------------------------------------------------------------\u001b[0m",
            "\u001b[0;31mNameError\u001b[0m                                 Traceback (most recent call last)",
            "\u001b[0;32m<ipython-input-1-f2d6b41f9f84>\u001b[0m in \u001b[0;36m<module>\u001b[0;34m()\u001b[0m\n\u001b[1;32m      1\u001b[0m \u001b[0mm\u001b[0m\u001b[0;34m=\u001b[0m\u001b[0;36m10\u001b[0m\u001b[0;34m\u001b[0m\u001b[0;34m\u001b[0m\u001b[0m\n\u001b[1;32m      2\u001b[0m \u001b[0mp\u001b[0m\u001b[0;34m=\u001b[0m\u001b[0;36m0.30\u001b[0m\u001b[0;34m\u001b[0m\u001b[0;34m\u001b[0m\u001b[0m\n\u001b[0;32m----> 3\u001b[0;31m \u001b[0mjubilado\u001b[0m \u001b[0;34m==\u001b[0m \u001b[0;32mTrue\u001b[0m\u001b[0;34m\u001b[0m\u001b[0;34m\u001b[0m\u001b[0m\n\u001b[0m\u001b[1;32m      4\u001b[0m \u001b[0;34m\u001b[0m\u001b[0m\n\u001b[1;32m      5\u001b[0m \u001b[0;34m\u001b[0m\u001b[0m\n",
            "\u001b[0;31mNameError\u001b[0m: name 'jubilado' is not defined"
          ]
        }
      ]
    },
    {
      "cell_type": "code",
      "metadata": {
        "id": "hU9nppGEgxo7",
        "colab_type": "code",
        "colab": {}
      },
      "source": [
        ""
      ],
      "execution_count": 0,
      "outputs": []
    },
    {
      "cell_type": "code",
      "metadata": {
        "id": "3NQFF8fBiWWr",
        "colab_type": "code",
        "colab": {}
      },
      "source": [
        ""
      ],
      "execution_count": 0,
      "outputs": []
    }
  ]
}