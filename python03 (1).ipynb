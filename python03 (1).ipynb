{
  "nbformat": 4,
  "nbformat_minor": 0,
  "metadata": {
    "colab": {
      "name": "python03.ipynb",
      "version": "0.3.2",
      "provenance": []
    },
    "kernelspec": {
      "name": "python3",
      "display_name": "Python 3"
    }
  },
  "cells": [
    {
      "metadata": {
        "id": "HmsxjA2WOJeN",
        "colab_type": "code",
        "colab": {}
      },
      "cell_type": "code",
      "source": [
        ""
      ],
      "execution_count": 0,
      "outputs": []
    },
    {
      "metadata": {
        "id": "d53zdLHxOWmp",
        "colab_type": "text"
      },
      "cell_type": "markdown",
      "source": [
        "#Estructura discreta de datos para computadora \n",
        "#Paula Ramos "
      ]
    },
    {
      "metadata": {
        "id": "wAb37k60O4JQ",
        "colab_type": "code",
        "colab": {
          "base_uri": "https://localhost:8080/",
          "height": 34
        },
        "outputId": "9773b3b5-01fa-4b80-800d-d4d43a6d2b44"
      },
      "cell_type": "code",
      "source": [
        "x = 12\n",
        "if x > 10:\n",
        " print(\"HELLO\")"
      ],
      "execution_count": 17,
      "outputs": [
        {
          "output_type": "stream",
          "text": [
            "HELLO\n"
          ],
          "name": "stdout"
        }
      ]
    },
    {
      "metadata": {
        "id": "ya6rtlNiP-gI",
        "colab_type": "code",
        "colab": {
          "base_uri": "https://localhost:8080/",
          "height": 34
        },
        "outputId": "a5ee351f-e423-4f9b-d586-c8f18c267e21"
      },
      "cell_type": "code",
      "source": [
        "x = 12\n",
        "if x > 13:\n",
        "  print(\"HELLO\")\n",
        "else: \n",
        "  print(\"WORD\")"
      ],
      "execution_count": 16,
      "outputs": [
        {
          "output_type": "stream",
          "text": [
            "WORD\n"
          ],
          "name": "stdout"
        }
      ]
    },
    {
      "metadata": {
        "id": "esMeUIIuQXqw",
        "colab_type": "code",
        "colab": {
          "base_uri": "https://localhost:8080/",
          "height": 34
        },
        "outputId": "d0853638-65b5-400d-c8a1-c1d4fe9a99f5"
      },
      "cell_type": "code",
      "source": [
        "x = 10\n",
        "y= 12\n",
        "if x > y:\n",
        "  print(\"x > y\")\n",
        "elif x<y: \n",
        "  print(\"x < y\")\n",
        "else:\n",
        "  print(\"x=y\")"
      ],
      "execution_count": 20,
      "outputs": [
        {
          "output_type": "stream",
          "text": [
            "x < y\n"
          ],
          "name": "stdout"
        }
      ]
    },
    {
      "metadata": {
        "id": "kGc_78YARFcf",
        "colab_type": "code",
        "colab": {
          "base_uri": "https://localhost:8080/",
          "height": 51
        },
        "outputId": "ecd463d0-d995-4db0-9228-e077f85b17b7"
      },
      "cell_type": "code",
      "source": [
        "x = 10\n",
        "y= 12\n",
        "if x > y:\n",
        "  print(\"x > y\")\n",
        "elif x<y: \n",
        "  print(\"x < y\")\n",
        "  if x==10:\n",
        "    print(\"x=10\")\n",
        "  else:\n",
        "    print(\"invalid\")\n",
        "else:\n",
        "  print(\"x=y\")"
      ],
      "execution_count": 22,
      "outputs": [
        {
          "output_type": "stream",
          "text": [
            "x < y\n",
            "x=10\n"
          ],
          "name": "stdout"
        }
      ]
    },
    {
      "metadata": {
        "id": "25UNvhuURms3",
        "colab_type": "code",
        "colab": {
          "base_uri": "https://localhost:8080/",
          "height": 85
        },
        "outputId": "52642c2f-8e0e-4d52-c92a-1fa9344de7f8"
      },
      "cell_type": "code",
      "source": [
        "for i in range (1,5):\n",
        "  print(i)"
      ],
      "execution_count": 24,
      "outputs": [
        {
          "output_type": "stream",
          "text": [
            "1\n",
            "2\n",
            "3\n",
            "4\n"
          ],
          "name": "stdout"
        }
      ]
    },
    {
      "metadata": {
        "id": "IDJA5_iYTOhn",
        "colab_type": "code",
        "colab": {
          "base_uri": "https://localhost:8080/",
          "height": 129
        },
        "outputId": "6466eca9-3875-423f-cc79-4cc7f6b506ed"
      },
      "cell_type": "code",
      "source": [
        "list_of_lists = [[1, 2, 3,], [4, 5, 6], [7, 8, 9]] \n",
        "for listl in reverse (list_of_lists:)\n",
        "  print(listl)"
      ],
      "execution_count": 33,
      "outputs": [
        {
          "output_type": "error",
          "ename": "SyntaxError",
          "evalue": "ignored",
          "traceback": [
            "\u001b[0;36m  File \u001b[0;32m\"<ipython-input-33-3e98cbb996ad>\"\u001b[0;36m, line \u001b[0;32m2\u001b[0m\n\u001b[0;31m    for listl in reverse (list_of_lists:)\u001b[0m\n\u001b[0m                                       ^\u001b[0m\n\u001b[0;31mSyntaxError\u001b[0m\u001b[0;31m:\u001b[0m invalid syntax\n"
          ]
        }
      ]
    },
    {
      "metadata": {
        "id": "FQXLh7EOWHFw",
        "colab_type": "code",
        "colab": {}
      },
      "cell_type": "code",
      "source": [
        "list_of_lists = [[1, 2, 3,], [4, 5, 6], [7, 8, 9]] \n",
        "for listl in list_of_lists:\n",
        "  print(listl)"
      ],
      "execution_count": 0,
      "outputs": []
    },
    {
      "metadata": {
        "id": "dMY5E0dJSyjH",
        "colab_type": "code",
        "colab": {
          "base_uri": "https://localhost:8080/",
          "height": 170
        },
        "outputId": "857dd6c8-c9cc-4480-9ece-9b2c0bb68f38"
      },
      "cell_type": "code",
      "source": [
        "list_of_lists = [[1, 2, 3,], [4, 5, 6], [7, 8, 9]] \n",
        "for listl in list_of_lists:\n",
        "  for x in listl:\n",
        "    print(x)"
      ],
      "execution_count": 31,
      "outputs": [
        {
          "output_type": "stream",
          "text": [
            "1\n",
            "2\n",
            "3\n",
            "4\n",
            "5\n",
            "6\n",
            "7\n",
            "8\n",
            "9\n"
          ],
          "name": "stdout"
        }
      ]
    },
    {
      "metadata": {
        "id": "62EKQUg6WSvX",
        "colab_type": "code",
        "colab": {
          "base_uri": "https://localhost:8080/",
          "height": 68
        },
        "outputId": "f147328b-d8bc-48e5-bc8a-1ce4e50705a3"
      },
      "cell_type": "code",
      "source": [
        "i=1\n",
        "while i<3:\n",
        "  print(1** 2)\n",
        "  i=i+1\n",
        "print('BYE')"
      ],
      "execution_count": 34,
      "outputs": [
        {
          "output_type": "stream",
          "text": [
            "1\n",
            "1\n",
            "BYE\n"
          ],
          "name": "stdout"
        }
      ]
    },
    {
      "metadata": {
        "id": "ZoPRv1UeXAxP",
        "colab_type": "code",
        "colab": {
          "base_uri": "https://localhost:8080/",
          "height": 153
        },
        "outputId": "3f6a5766-58be-4e05-818a-bfb326f5c557"
      },
      "cell_type": "code",
      "source": [
        "for i in range (100):\n",
        "  print(i+1)\n",
        "  if i>=7:\n",
        "    break"
      ],
      "execution_count": 37,
      "outputs": [
        {
          "output_type": "stream",
          "text": [
            "1\n",
            "2\n",
            "3\n",
            "4\n",
            "5\n",
            "6\n",
            "7\n",
            "8\n"
          ],
          "name": "stdout"
        }
      ]
    },
    {
      "metadata": {
        "id": "vC7xYbZ_X06v",
        "colab_type": "code",
        "colab": {
          "base_uri": "https://localhost:8080/",
          "height": 187
        },
        "outputId": "2ce34435-40fc-481f-f4b3-60d723e0d568"
      },
      "cell_type": "code",
      "source": [
        "for i in range (10):\n",
        "  if i>4:\n",
        "    print(\"The end\")\n",
        "    continue\n",
        "  elif i<7:\n",
        "    print(i)\n",
        "    "
      ],
      "execution_count": 36,
      "outputs": [
        {
          "output_type": "stream",
          "text": [
            "0\n",
            "1\n",
            "2\n",
            "3\n",
            "4\n",
            "The end\n",
            "The end\n",
            "The end\n",
            "The end\n",
            "The end\n"
          ],
          "name": "stdout"
        }
      ]
    },
    {
      "metadata": {
        "id": "Ri8XTi3GYcvB",
        "colab_type": "code",
        "colab": {
          "base_uri": "https://localhost:8080/",
          "height": 34
        },
        "outputId": "462930c5-a626-4d74-8c74-9acb96be5eec"
      },
      "cell_type": "code",
      "source": [
        "res = []\n",
        "for i in range (1,11):\n",
        "  x = 27*i\n",
        "  res.append(x)\n",
        "print (res)"
      ],
      "execution_count": 38,
      "outputs": [
        {
          "output_type": "stream",
          "text": [
            "[27, 54, 81, 108, 135, 162, 189, 216, 243, 270]\n"
          ],
          "name": "stdout"
        }
      ]
    },
    {
      "metadata": {
        "id": "B5m8CZBwZYUR",
        "colab_type": "code",
        "colab": {
          "base_uri": "https://localhost:8080/",
          "height": 34
        },
        "outputId": "401d3e43-7786-40c8-aa8c-1e1a054162ea"
      },
      "cell_type": "code",
      "source": [
        "[27*x for x in range(1,20) if x<=10]"
      ],
      "execution_count": 41,
      "outputs": [
        {
          "output_type": "execute_result",
          "data": {
            "text/plain": [
              "[27, 54, 81, 108, 135, 162, 189, 216, 243, 270]"
            ]
          },
          "metadata": {
            "tags": []
          },
          "execution_count": 41
        }
      ]
    },
    {
      "metadata": {
        "id": "zhCmI_RMaLoS",
        "colab_type": "code",
        "colab": {
          "base_uri": "https://localhost:8080/",
          "height": 51
        },
        "outputId": "551b36ae-6260-4ad0-b524-3efe6eca9b3a"
      },
      "cell_type": "code",
      "source": [
        "# ESTABLECES EL NUMERO DIVIDE \n",
        "dividir=5\n",
        "\n",
        "#dos listas\n",
        "bajos= []; altos = []\n",
        "\n",
        "#dividir las listas\n",
        "for i in range(10):\n",
        "  if (i < dividir):\n",
        "    bajos.append(i)\n",
        "  else:\n",
        "    altos.append(i)\n",
        "print(\"bajos: \", bajos)\n",
        "print(\"altos: \", altos)\n",
        " \n",
        " "
      ],
      "execution_count": 50,
      "outputs": [
        {
          "output_type": "stream",
          "text": [
            "bajos:  [0, 1, 2, 3, 4]\n",
            "altos:  [5, 6, 7, 8, 9]\n"
          ],
          "name": "stdout"
        }
      ]
    }
  ]
}