{
  "nbformat": 4,
  "nbformat_minor": 0,
  "metadata": {
    "colab": {
      "name": "Untitled",
      "version": "0.3.2",
      "provenance": [],
      "collapsed_sections": [],
      "include_colab_link": true
    },
    "kernelspec": {
      "name": "python3",
      "display_name": "Python 3"
    }
  },
  "cells": [
    {
      "cell_type": "markdown",
      "metadata": {
        "id": "view-in-github",
        "colab_type": "text"
      },
      "source": [
        "<a href=\"https://colab.research.google.com/github/PaulaAndreaRamosAguirre/FISC-0746-ESTRUCTURA-DISCRETA-COMPUTACION-2019/blob/master/Untitled.ipynb\" target=\"_parent\"><img src=\"https://colab.research.google.com/assets/colab-badge.svg\" alt=\"Open In Colab\"/></a>"
      ]
    },
    {
      "cell_type": "markdown",
      "metadata": {
        "id": "wZNqFhy2ZfF9",
        "colab_type": "text"
      },
      "source": [
        "##Factorial"
      ]
    },
    {
      "cell_type": "code",
      "metadata": {
        "id": "ih9tK_zHTNoJ",
        "colab_type": "code",
        "colab": {}
      },
      "source": [
        "def factorial (n):\n",
        "  \n",
        "  if n>1:\n",
        "     return n * factorial(n-1)\n",
        "  \n",
        "  else:\n",
        "    return 1"
      ],
      "execution_count": 0,
      "outputs": []
    },
    {
      "cell_type": "code",
      "metadata": {
        "id": "k0bppM5EYlCX",
        "colab_type": "code",
        "outputId": "322cc6a8-65a5-4f84-80aa-db7a2f6f824d",
        "colab": {
          "base_uri": "https://localhost:8080/",
          "height": 34
        }
      },
      "source": [
        "factorial (5)"
      ],
      "execution_count": 0,
      "outputs": [
        {
          "output_type": "execute_result",
          "data": {
            "text/plain": [
              "120"
            ]
          },
          "metadata": {
            "tags": []
          },
          "execution_count": 86
        }
      ]
    },
    {
      "cell_type": "markdown",
      "metadata": {
        "id": "1tjFG_rxctCO",
        "colab_type": "text"
      },
      "source": [
        "##combinaciones con remplazo\n"
      ]
    },
    {
      "cell_type": "code",
      "metadata": {
        "id": "4cPYURbsbXnG",
        "colab_type": "code",
        "outputId": "46e786e4-757f-4b68-e95e-5bf808465355",
        "colab": {
          "base_uri": "https://localhost:8080/",
          "height": 34
        }
      },
      "source": [
        "import itertools \n",
        "list(itertools. combinations (range(3), 2))"
      ],
      "execution_count": 0,
      "outputs": [
        {
          "output_type": "execute_result",
          "data": {
            "text/plain": [
              "[(0, 1), (0, 2), (1, 2)]"
            ]
          },
          "metadata": {
            "tags": []
          },
          "execution_count": 87
        }
      ]
    },
    {
      "cell_type": "code",
      "metadata": {
        "id": "YuzudatqcFpF",
        "colab_type": "code",
        "outputId": "9ad5fcb3-51ae-47a2-cc7a-e1a717313266",
        "colab": {
          "base_uri": "https://localhost:8080/",
          "height": 34
        }
      },
      "source": [
        "list(itertools. combinations_with_replacement (range(3), 2))"
      ],
      "execution_count": 0,
      "outputs": [
        {
          "output_type": "execute_result",
          "data": {
            "text/plain": [
              "[(0, 0), (0, 1), (0, 2), (1, 1), (1, 2), (2, 2)]"
            ]
          },
          "metadata": {
            "tags": []
          },
          "execution_count": 88
        }
      ]
    },
    {
      "cell_type": "markdown",
      "metadata": {
        "id": "reLw27Ozdr_9",
        "colab_type": "text"
      },
      "source": [
        "##Dado un numero determinado A, B, C, queremos esxtraer todas las posibles parejas "
      ]
    },
    {
      "cell_type": "code",
      "metadata": {
        "id": "0096vAxuc74m",
        "colab_type": "code",
        "outputId": "bdf72aee-05ab-4154-961f-f2eed4bb1d6f",
        "colab": {
          "base_uri": "https://localhost:8080/",
          "height": 170
        }
      },
      "source": [
        "c= itertools.product(('A', 'B', 'C'), repeat =2)\n",
        "list (c)"
      ],
      "execution_count": 0,
      "outputs": [
        {
          "output_type": "execute_result",
          "data": {
            "text/plain": [
              "[('A', 'A'),\n",
              " ('A', 'B'),\n",
              " ('A', 'C'),\n",
              " ('B', 'A'),\n",
              " ('B', 'B'),\n",
              " ('B', 'C'),\n",
              " ('C', 'A'),\n",
              " ('C', 'B'),\n",
              " ('C', 'C')]"
            ]
          },
          "metadata": {
            "tags": []
          },
          "execution_count": 78
        }
      ]
    },
    {
      "cell_type": "markdown",
      "metadata": {
        "id": "DsH36Pecd91-",
        "colab_type": "text"
      },
      "source": [
        "##Permutaciones "
      ]
    },
    {
      "cell_type": "code",
      "metadata": {
        "id": "AXsIEZCVeCg-",
        "colab_type": "code",
        "outputId": "9e679bd8-fe13-4a41-c44b-2a9d7f53eae8",
        "colab": {
          "base_uri": "https://localhost:8080/",
          "height": 34
        }
      },
      "source": [
        "c= itertools.permutations(('A', 'B', 'C'),  2)\n",
        "list (c)"
      ],
      "execution_count": 0,
      "outputs": [
        {
          "output_type": "execute_result",
          "data": {
            "text/plain": [
              "[('A', 'B'), ('A', 'C'), ('B', 'A'), ('B', 'C'), ('C', 'A'), ('C', 'B')]"
            ]
          },
          "metadata": {
            "tags": []
          },
          "execution_count": 82
        }
      ]
    },
    {
      "cell_type": "markdown",
      "metadata": {
        "id": "Q4pjenbwey-c",
        "colab_type": "text"
      },
      "source": [
        "##Combinacion "
      ]
    },
    {
      "cell_type": "code",
      "metadata": {
        "id": "ki1iQzkreC8-",
        "colab_type": "code",
        "outputId": "5e8d82d7-9fea-4259-f1de-0fcad6517592",
        "colab": {
          "base_uri": "https://localhost:8080/",
          "height": 34
        }
      },
      "source": [
        "c= itertools.combinations(('A', 'B', 'C'),  2)\n",
        "list (c)"
      ],
      "execution_count": 0,
      "outputs": [
        {
          "output_type": "execute_result",
          "data": {
            "text/plain": [
              "[('A', 'B'), ('A', 'C'), ('B', 'C')]"
            ]
          },
          "metadata": {
            "tags": []
          },
          "execution_count": 83
        }
      ]
    },
    {
      "cell_type": "markdown",
      "metadata": {
        "id": "a-XPZT4OfRkO",
        "colab_type": "text"
      },
      "source": [
        "#Tarea02 "
      ]
    },
    {
      "cell_type": "code",
      "metadata": {
        "id": "ItW-d0dYfbwh",
        "colab_type": "code",
        "outputId": "75da3144-a29a-419e-affd-591b637b4fb9",
        "colab": {
          "base_uri": "https://localhost:8080/",
          "height": 1343
        }
      },
      "source": [
        "c= itertools.combinations(('Porto', 'Roma', 'Manchester City', 'Schalke04', 'Bayer', 'liverpool', 'Manchester', 'United', 'PSG', 'Juventus', 'Atletico de Madrid', 'Barcelona', 'Lyon'),  2)\n",
        "list (c)"
      ],
      "execution_count": 0,
      "outputs": [
        {
          "output_type": "execute_result",
          "data": {
            "text/plain": [
              "[('Porto', 'Roma'),\n",
              " ('Porto', 'Manchester City'),\n",
              " ('Porto', 'Schalke04'),\n",
              " ('Porto', 'Bayer'),\n",
              " ('Porto', 'liverpool'),\n",
              " ('Porto', 'Manchester'),\n",
              " ('Porto', 'United'),\n",
              " ('Porto', 'PSG'),\n",
              " ('Porto', 'Juventus'),\n",
              " ('Porto', 'Atletico de Madrid'),\n",
              " ('Porto', 'Barcelona'),\n",
              " ('Porto', 'Lyon'),\n",
              " ('Roma', 'Manchester City'),\n",
              " ('Roma', 'Schalke04'),\n",
              " ('Roma', 'Bayer'),\n",
              " ('Roma', 'liverpool'),\n",
              " ('Roma', 'Manchester'),\n",
              " ('Roma', 'United'),\n",
              " ('Roma', 'PSG'),\n",
              " ('Roma', 'Juventus'),\n",
              " ('Roma', 'Atletico de Madrid'),\n",
              " ('Roma', 'Barcelona'),\n",
              " ('Roma', 'Lyon'),\n",
              " ('Manchester City', 'Schalke04'),\n",
              " ('Manchester City', 'Bayer'),\n",
              " ('Manchester City', 'liverpool'),\n",
              " ('Manchester City', 'Manchester'),\n",
              " ('Manchester City', 'United'),\n",
              " ('Manchester City', 'PSG'),\n",
              " ('Manchester City', 'Juventus'),\n",
              " ('Manchester City', 'Atletico de Madrid'),\n",
              " ('Manchester City', 'Barcelona'),\n",
              " ('Manchester City', 'Lyon'),\n",
              " ('Schalke04', 'Bayer'),\n",
              " ('Schalke04', 'liverpool'),\n",
              " ('Schalke04', 'Manchester'),\n",
              " ('Schalke04', 'United'),\n",
              " ('Schalke04', 'PSG'),\n",
              " ('Schalke04', 'Juventus'),\n",
              " ('Schalke04', 'Atletico de Madrid'),\n",
              " ('Schalke04', 'Barcelona'),\n",
              " ('Schalke04', 'Lyon'),\n",
              " ('Bayer', 'liverpool'),\n",
              " ('Bayer', 'Manchester'),\n",
              " ('Bayer', 'United'),\n",
              " ('Bayer', 'PSG'),\n",
              " ('Bayer', 'Juventus'),\n",
              " ('Bayer', 'Atletico de Madrid'),\n",
              " ('Bayer', 'Barcelona'),\n",
              " ('Bayer', 'Lyon'),\n",
              " ('liverpool', 'Manchester'),\n",
              " ('liverpool', 'United'),\n",
              " ('liverpool', 'PSG'),\n",
              " ('liverpool', 'Juventus'),\n",
              " ('liverpool', 'Atletico de Madrid'),\n",
              " ('liverpool', 'Barcelona'),\n",
              " ('liverpool', 'Lyon'),\n",
              " ('Manchester', 'United'),\n",
              " ('Manchester', 'PSG'),\n",
              " ('Manchester', 'Juventus'),\n",
              " ('Manchester', 'Atletico de Madrid'),\n",
              " ('Manchester', 'Barcelona'),\n",
              " ('Manchester', 'Lyon'),\n",
              " ('United', 'PSG'),\n",
              " ('United', 'Juventus'),\n",
              " ('United', 'Atletico de Madrid'),\n",
              " ('United', 'Barcelona'),\n",
              " ('United', 'Lyon'),\n",
              " ('PSG', 'Juventus'),\n",
              " ('PSG', 'Atletico de Madrid'),\n",
              " ('PSG', 'Barcelona'),\n",
              " ('PSG', 'Lyon'),\n",
              " ('Juventus', 'Atletico de Madrid'),\n",
              " ('Juventus', 'Barcelona'),\n",
              " ('Juventus', 'Lyon'),\n",
              " ('Atletico de Madrid', 'Barcelona'),\n",
              " ('Atletico de Madrid', 'Lyon'),\n",
              " ('Barcelona', 'Lyon')]"
            ]
          },
          "metadata": {
            "tags": []
          },
          "execution_count": 92
        }
      ]
    },
    {
      "cell_type": "code",
      "metadata": {
        "id": "SE2lK0jbfcfF",
        "colab_type": "code",
        "outputId": "a872606b-8480-4b10-fac9-642d7da5e200",
        "colab": {
          "base_uri": "https://localhost:8080/",
          "height": 34
        }
      },
      "source": [
        "len(list(itertools.combinations(('Porto', 'Roma', 'Manchester City', 'Schalke04', 'Bayer', 'liverpool', 'Manchester', 'United', 'PSG', 'Juventus', 'Atletico de Madrid', 'Barcelona', 'Lyon'),  2)))\n",
        "  "
      ],
      "execution_count": 0,
      "outputs": [
        {
          "output_type": "execute_result",
          "data": {
            "text/plain": [
              "78"
            ]
          },
          "metadata": {
            "tags": []
          },
          "execution_count": 96
        }
      ]
    }
  ]
}